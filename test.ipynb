{
 "cells": [
  {
   "cell_type": "code",
   "execution_count": 1,
   "metadata": {},
   "outputs": [],
   "source": [
    "import torch\n",
    "from torch import nn"
   ]
  },
  {
   "cell_type": "code",
   "execution_count": 2,
   "metadata": {},
   "outputs": [
    {
     "data": {
      "text/plain": [
       "tensor([[-0.0374],\n",
       "        [ 0.0349]], grad_fn=<AddmmBackward>)"
      ]
     },
     "execution_count": 2,
     "metadata": {},
     "output_type": "execute_result"
    }
   ],
   "source": [
    "net = nn.Sequential(nn.Linear(2, 8), nn.ReLU(), nn.Linear(8, 1))\n",
    "x = torch.rand(2, 2)\n",
    "net(x)"
   ]
  },
  {
   "cell_type": "code",
   "execution_count": 6,
   "metadata": {},
   "outputs": [
    {
     "data": {
      "text/plain": [
       "OrderedDict([('weight',\n",
       "              tensor([[ 0.2280, -0.5475],\n",
       "                      [ 0.0953, -0.3233],\n",
       "                      [ 0.1200,  0.5097],\n",
       "                      [-0.0754, -0.6104],\n",
       "                      [-0.4888,  0.1375],\n",
       "                      [-0.0336,  0.1084],\n",
       "                      [-0.0892,  0.4468],\n",
       "                      [ 0.0112,  0.5701]])),\n",
       "             ('bias',\n",
       "              tensor([ 0.4042,  0.3410, -0.1909,  0.1726,  0.6812, -0.5554,  0.0605,  0.3875]))])"
      ]
     },
     "execution_count": 6,
     "metadata": {},
     "output_type": "execute_result"
    }
   ],
   "source": [
    "net[0].state_dict()"
   ]
  },
  {
   "cell_type": "code",
   "execution_count": 7,
   "metadata": {},
   "outputs": [
    {
     "data": {
      "text/plain": [
       "OrderedDict([('0.weight',\n",
       "              tensor([[ 0.2280, -0.5475],\n",
       "                      [ 0.0953, -0.3233],\n",
       "                      [ 0.1200,  0.5097],\n",
       "                      [-0.0754, -0.6104],\n",
       "                      [-0.4888,  0.1375],\n",
       "                      [-0.0336,  0.1084],\n",
       "                      [-0.0892,  0.4468],\n",
       "                      [ 0.0112,  0.5701]])),\n",
       "             ('0.bias',\n",
       "              tensor([ 0.4042,  0.3410, -0.1909,  0.1726,  0.6812, -0.5554,  0.0605,  0.3875])),\n",
       "             ('2.weight',\n",
       "              tensor([[ 0.1270,  0.2748, -0.2906, -0.3182, -0.0390, -0.0030, -0.3150,  0.1284]])),\n",
       "             ('2.bias', tensor([-0.0765]))])"
      ]
     },
     "execution_count": 7,
     "metadata": {},
     "output_type": "execute_result"
    }
   ],
   "source": [
    "net.state_dict()"
   ]
  },
  {
   "cell_type": "code",
   "execution_count": 8,
   "metadata": {},
   "outputs": [
    {
     "data": {
      "text/plain": [
       "Parameter containing:\n",
       "tensor([[ 0.2280, -0.5475],\n",
       "        [ 0.0953, -0.3233],\n",
       "        [ 0.1200,  0.5097],\n",
       "        [-0.0754, -0.6104],\n",
       "        [-0.4888,  0.1375],\n",
       "        [-0.0336,  0.1084],\n",
       "        [-0.0892,  0.4468],\n",
       "        [ 0.0112,  0.5701]], requires_grad=True)"
      ]
     },
     "execution_count": 8,
     "metadata": {},
     "output_type": "execute_result"
    }
   ],
   "source": [
    "net[0].weight"
   ]
  },
  {
   "cell_type": "code",
   "execution_count": 11,
   "metadata": {},
   "outputs": [
    {
     "data": {
      "text/plain": [
       "True"
      ]
     },
     "execution_count": 11,
     "metadata": {},
     "output_type": "execute_result"
    }
   ],
   "source": [
    "net[0].weight.grad is None"
   ]
  },
  {
   "cell_type": "code",
   "execution_count": 12,
   "metadata": {},
   "outputs": [
    {
     "data": {
      "text/plain": [
       "tensor([[ 0.2280, -0.5475],\n",
       "        [ 0.0953, -0.3233],\n",
       "        [ 0.1200,  0.5097],\n",
       "        [-0.0754, -0.6104],\n",
       "        [-0.4888,  0.1375],\n",
       "        [-0.0336,  0.1084],\n",
       "        [-0.0892,  0.4468],\n",
       "        [ 0.0112,  0.5701]])"
      ]
     },
     "execution_count": 12,
     "metadata": {},
     "output_type": "execute_result"
    }
   ],
   "source": [
    "net[0].weight.data"
   ]
  },
  {
   "cell_type": "code",
   "execution_count": 15,
   "metadata": {},
   "outputs": [
    {
     "name": "stdout",
     "output_type": "stream",
     "text": [
      "Parameter containing:\n",
      "tensor([[ 0.2280, -0.5475],\n",
      "        [ 0.0953, -0.3233],\n",
      "        [ 0.1200,  0.5097],\n",
      "        [-0.0754, -0.6104],\n",
      "        [-0.4888,  0.1375],\n",
      "        [-0.0336,  0.1084],\n",
      "        [-0.0892,  0.4468],\n",
      "        [ 0.0112,  0.5701]], requires_grad=True)\n",
      "Parameter containing:\n",
      "tensor([ 0.4042,  0.3410, -0.1909,  0.1726,  0.6812, -0.5554,  0.0605,  0.3875],\n",
      "       requires_grad=True)\n",
      "Parameter containing:\n",
      "tensor([[ 0.1270,  0.2748, -0.2906, -0.3182, -0.0390, -0.0030, -0.3150,  0.1284]],\n",
      "       requires_grad=True)\n",
      "Parameter containing:\n",
      "tensor([-0.0765], requires_grad=True)\n"
     ]
    }
   ],
   "source": [
    "for param in net.parameters():\n",
    "    print(param)"
   ]
  },
  {
   "cell_type": "code",
   "execution_count": 16,
   "metadata": {},
   "outputs": [
    {
     "name": "stdout",
     "output_type": "stream",
     "text": [
      "0.weight Parameter containing:\n",
      "tensor([[ 0.2280, -0.5475],\n",
      "        [ 0.0953, -0.3233],\n",
      "        [ 0.1200,  0.5097],\n",
      "        [-0.0754, -0.6104],\n",
      "        [-0.4888,  0.1375],\n",
      "        [-0.0336,  0.1084],\n",
      "        [-0.0892,  0.4468],\n",
      "        [ 0.0112,  0.5701]], requires_grad=True)\n",
      "0.bias Parameter containing:\n",
      "tensor([ 0.4042,  0.3410, -0.1909,  0.1726,  0.6812, -0.5554,  0.0605,  0.3875],\n",
      "       requires_grad=True)\n",
      "2.weight Parameter containing:\n",
      "tensor([[ 0.1270,  0.2748, -0.2906, -0.3182, -0.0390, -0.0030, -0.3150,  0.1284]],\n",
      "       requires_grad=True)\n",
      "2.bias Parameter containing:\n",
      "tensor([-0.0765], requires_grad=True)\n"
     ]
    }
   ],
   "source": [
    "for name, param in net.named_parameters():\n",
    "    print(name, param)"
   ]
  },
  {
   "cell_type": "code",
   "execution_count": 17,
   "metadata": {},
   "outputs": [
    {
     "name": "stdout",
     "output_type": "stream",
     "text": [
      "0.weight Parameter containing:\n",
      "tensor([[-0.0014,  0.0077],\n",
      "        [-0.0047, -0.0036],\n",
      "        [-0.0098, -0.0070],\n",
      "        [-0.0022,  0.0054],\n",
      "        [-0.0095,  0.0160],\n",
      "        [-0.0008, -0.0071],\n",
      "        [-0.0087,  0.0076],\n",
      "        [-0.0128, -0.0056]], requires_grad=True)\n",
      "0.bias Parameter containing:\n",
      "tensor([0., 0., 0., 0., 0., 0., 0., 0.], requires_grad=True)\n",
      "2.weight Parameter containing:\n",
      "tensor([[ 0.0006,  0.0025, -0.0010,  0.0043, -0.0064, -0.0099,  0.0049,  0.0002]],\n",
      "       requires_grad=True)\n",
      "2.bias Parameter containing:\n",
      "tensor([0.], requires_grad=True)\n"
     ]
    }
   ],
   "source": [
    "def init_normal(m):\n",
    "    if isinstance(m, nn.Linear):\n",
    "        nn.init.normal_(m.weight, mean=0, std=0.01)\n",
    "        nn.init.zeros_(m.bias)\n",
    "\n",
    "net.apply(init_normal)\n",
    "\n",
    "for name, param in net.named_parameters():\n",
    "    print(name, param)"
   ]
  },
  {
   "cell_type": "code",
   "execution_count": null,
   "metadata": {},
   "outputs": [],
   "source": []
  }
 ],
 "metadata": {
  "kernelspec": {
   "display_name": "Python 3.8.11 ('pytorch')",
   "language": "python",
   "name": "python3"
  },
  "language_info": {
   "codemirror_mode": {
    "name": "ipython",
    "version": 3
   },
   "file_extension": ".py",
   "mimetype": "text/x-python",
   "name": "python",
   "nbconvert_exporter": "python",
   "pygments_lexer": "ipython3",
   "version": "3.8.11"
  },
  "orig_nbformat": 4,
  "vscode": {
   "interpreter": {
    "hash": "34edda6e8a71369eb16fa2da97a64c7b05c5d3ff1e0f2b3ab3ec1ef47643ae8a"
   }
  }
 },
 "nbformat": 4,
 "nbformat_minor": 2
}
